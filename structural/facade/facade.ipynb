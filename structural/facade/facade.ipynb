{
 "cells": [
  {
   "cell_type": "markdown",
   "metadata": {},
   "source": [
    "# Facade Design Pattern\n"
   ]
  },
  {
   "cell_type": "code",
   "execution_count": 1,
   "metadata": {},
   "outputs": [
    {
     "name": "stdout",
     "output_type": "stream",
     "text": [
      "Iphone sale:\n",
      "Model: iPhone 14\n",
      "Price: $999\n",
      "\n",
      "Samsung sale:\n",
      "Model: Samsung Galaxy S23\n",
      "Price: $849\n",
      "\n",
      "Blackberry sale:\n",
      "Model: Blackberry Classic\n",
      "Price: $399\n"
     ]
    }
   ],
   "source": [
    "\n",
    "#  Interface\n",
    "class MobileShop:\n",
    "    def model_no(self):\n",
    "        pass\n",
    "\n",
    "    def price(self):\n",
    "        pass\n",
    "\n",
    "class Iphone(MobileShop):\n",
    "    def model_no(self):\n",
    "        return \"iPhone 14\"\n",
    "\n",
    "    def price(self):\n",
    "        return \"$999\"\n",
    "\n",
    "class Samsung(MobileShop):\n",
    "    def model_no(self):\n",
    "        return \"Samsung Galaxy S23\"\n",
    "\n",
    "    def price(self):\n",
    "        return \"$849\"\n",
    "\n",
    "class Blackberry(MobileShop):\n",
    "    def model_no(self):\n",
    "        return \"Blackberry Classic\"\n",
    "\n",
    "    def price(self):\n",
    "        return \"$399\"\n",
    "\n",
    "class ShopKeeper:\n",
    "    def __init__(self):\n",
    "        self.iphone = Iphone()\n",
    "        self.samsung = Samsung()\n",
    "        self.blackberry = Blackberry()\n",
    "\n",
    "    def iphone_sale(self):\n",
    "        print(f\"Model: {self.iphone.model_no()}\")\n",
    "        print(f\"Price: {self.iphone.price()}\")\n",
    "\n",
    "    def samsung_sale(self):\n",
    "        print(f\"Model: {self.samsung.model_no()}\")\n",
    "        print(f\"Price: {self.samsung.price()}\")\n",
    "\n",
    "    def blackberry_sale(self):\n",
    "        print(f\"Model: {self.blackberry.model_no()}\")\n",
    "        print(f\"Price: {self.blackberry.price()}\")\n",
    "\n",
    "\n",
    "if __name__ == \"__main__\":\n",
    "    shop_keeper = ShopKeeper()\n",
    "    print(\"Iphone sale:\")\n",
    "    shop_keeper.iphone_sale()\n",
    "    \n",
    "    print(\"\\nSamsung sale:\")\n",
    "    shop_keeper.samsung_sale()\n",
    "    \n",
    "    print(\"\\nBlackberry sale:\")\n",
    "    shop_keeper.blackberry_sale()\n"
   ]
  }
 ],
 "metadata": {
  "kernelspec": {
   "display_name": "myenv",
   "language": "python",
   "name": "python3"
  },
  "language_info": {
   "codemirror_mode": {
    "name": "ipython",
    "version": 3
   },
   "file_extension": ".py",
   "mimetype": "text/x-python",
   "name": "python",
   "nbconvert_exporter": "python",
   "pygments_lexer": "ipython3",
   "version": "3.11.10"
  }
 },
 "nbformat": 4,
 "nbformat_minor": 2
}
