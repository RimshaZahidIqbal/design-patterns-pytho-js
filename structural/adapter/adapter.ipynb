{
 "cells": [
  {
   "cell_type": "markdown",
   "metadata": {},
   "source": [
    "# Adapter Design pattern\n",
    "\n",
    "- The adapter gets an interface, compatible with one of the existing objects.\n",
    "- Using this interface, the existing object can safely call the adapter’s methods.\n",
    "- Upon receiving a call, the adapter passes the request to the second object, but in a format and order that the second object expects."
   ]
  },
  {
   "cell_type": "code",
   "execution_count": 1,
   "metadata": {},
   "outputs": [
    {
     "name": "stdout",
     "output_type": "stream",
     "text": [
      "JSON Data: {\n",
      "  \"name\": \"John Doe\",\n",
      "  \"age\": 30,\n",
      "  \"city\": \"New York\"\n",
      "}\n"
     ]
    }
   ],
   "source": [
    "# Adapter Design Pattern\n",
    "import xml.etree.ElementTree as ET\n",
    "import json\n",
    "\n",
    "#  (Adaptee)\n",
    "class XMLService:\n",
    "    def get_xml_data(self) -> str:\n",
    "        return \"\"\"\n",
    "            <person>\n",
    "                <name>John Doe</name>\n",
    "                <age>30</age>\n",
    "                <city>New York</city>\n",
    "            </person>\n",
    "        \"\"\"\n",
    "\n",
    "#  (Target) \n",
    "class JSONClient:\n",
    "    def __init__(self, data):\n",
    "        self.data = data\n",
    "\n",
    "    def display_data(self):\n",
    "        print(\"JSON Data:\", json.dumps(self.data, indent=2))\n",
    "\n",
    "# Adapter \n",
    "class XMLToJSONAdapter:\n",
    "    def __init__(self, xml_service: XMLService):\n",
    "        self.xml_service = xml_service\n",
    "\n",
    "    def get_json_data(self) -> dict:\n",
    "        root = ET.fromstring(self.xml_service.get_xml_data())\n",
    "        \n",
    "        # XML to JSON conversion\n",
    "        json_data = {\n",
    "            \"name\": root.find(\"name\").text,\n",
    "            \"age\": int(root.find(\"age\").text),\n",
    "            \"city\": root.find(\"city\").text,\n",
    "        }\n",
    "        return json_data\n",
    "\n",
    "# Client \n",
    "xml_service = XMLService()\n",
    "adapter = XMLToJSONAdapter(xml_service)\n",
    "json_client = JSONClient(adapter.get_json_data())\n",
    "\n",
    "json_client.display_data()\n"
   ]
  }
 ],
 "metadata": {
  "kernelspec": {
   "display_name": "myenv",
   "language": "python",
   "name": "python3"
  },
  "language_info": {
   "codemirror_mode": {
    "name": "ipython",
    "version": 3
   },
   "file_extension": ".py",
   "mimetype": "text/x-python",
   "name": "python",
   "nbconvert_exporter": "python",
   "pygments_lexer": "ipython3",
   "version": "3.11.10"
  }
 },
 "nbformat": 4,
 "nbformat_minor": 2
}
