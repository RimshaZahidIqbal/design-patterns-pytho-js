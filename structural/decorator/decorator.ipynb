{
 "cells": [
  {
   "cell_type": "markdown",
   "metadata": {},
   "source": [
    "# Decorator Design Pattern\n",
    "\n",
    "The Decorator Design Pattern is a structural pattern that allows behavior to be added to individual objects, either statically or dynamically, without affecting the behavior of other objects from the same class. It is typically used to add responsibilities to objects at runtime."
   ]
  },
  {
   "cell_type": "code",
   "execution_count": 1,
   "metadata": {},
   "outputs": [
    {
     "name": "stdout",
     "output_type": "stream",
     "text": [
      "Veg Food costs 10.0\n",
      "Veg Food, with Chinese seasoning costs 15.0\n",
      "Non-Veg Food costs 15.0\n",
      "Non-Veg Food, with Chinese seasoning costs 20.0\n"
     ]
    }
   ],
   "source": [
    "from abc import ABC, abstractmethod\n",
    "\n",
    "# Component\n",
    "class Food(ABC):\n",
    "    @abstractmethod\n",
    "    def prepare_food(self):\n",
    "        pass\n",
    "\n",
    "    @abstractmethod\n",
    "    def food_price(self):\n",
    "        pass\n",
    "\n",
    "# ConcreteComponent\n",
    "class VegFood(Food):\n",
    "    def prepare_food(self):\n",
    "        return \"Veg Food\"\n",
    "\n",
    "    def food_price(self):\n",
    "        return 10.0\n",
    "\n",
    "# ConcreteComponent\n",
    "class NonVegFood(Food):\n",
    "    def prepare_food(self):\n",
    "        return \"Non-Veg Food\"\n",
    "\n",
    "    def food_price(self):\n",
    "        return 15.0\n",
    "\n",
    "# Decorator\n",
    "class FoodDecorator(Food):\n",
    "    def __init__(self, new_food: Food):\n",
    "        self.new_food = new_food\n",
    "\n",
    "    @abstractmethod\n",
    "    def prepare_food(self):\n",
    "        return self.new_food.prepare_food()\n",
    "\n",
    "    @abstractmethod\n",
    "    def food_price(self):\n",
    "        return self.new_food.food_price()\n",
    "\n",
    "# ConcreteDecorator\n",
    "class ChineseFood(FoodDecorator):\n",
    "    def prepare_food(self):\n",
    "        return self.new_food.prepare_food() + \", with Chinese seasoning\"\n",
    "\n",
    "    def food_price(self):\n",
    "        return self.new_food.food_price() + 5.0\n",
    "\n",
    "# Client code\n",
    "if __name__ == \"__main__\":\n",
    "    veg_food = VegFood()\n",
    "    print(f\"{veg_food.prepare_food()} costs {veg_food.food_price()}\")\n",
    "\n",
    "    #  VegFood + ChineseFood\n",
    "    chinese_veg_food = ChineseFood(veg_food)\n",
    "    print(f\"{chinese_veg_food.prepare_food()} costs {chinese_veg_food.food_price()}\")\n",
    "\n",
    "    non_veg_food = NonVegFood()\n",
    "    print(f\"{non_veg_food.prepare_food()} costs {non_veg_food.food_price()}\")\n",
    "\n",
    "    #  NonVegFood + ChineseFood\n",
    "    chinese_non_veg_food = ChineseFood(non_veg_food)\n",
    "    print(f\"{chinese_non_veg_food.prepare_food()} costs {chinese_non_veg_food.food_price()}\")\n"
   ]
  }
 ],
 "metadata": {
  "kernelspec": {
   "display_name": "myenv",
   "language": "python",
   "name": "python3"
  },
  "language_info": {
   "codemirror_mode": {
    "name": "ipython",
    "version": 3
   },
   "file_extension": ".py",
   "mimetype": "text/x-python",
   "name": "python",
   "nbconvert_exporter": "python",
   "pygments_lexer": "ipython3",
   "version": "3.11.10"
  }
 },
 "nbformat": 4,
 "nbformat_minor": 2
}
