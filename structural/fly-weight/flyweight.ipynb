{
 "cells": [
  {
   "cell_type": "markdown",
   "metadata": {},
   "source": [
    "# Flyweight Design Pattern\n",
    "\n",
    "to reuse already existing similar kind of objects by storing them and create \n",
    "\n",
    "## Advantages:\n",
    "- It reduces the number of objects.\n",
    "- It reduces the amount of memory and storage devices required if the objects are persisted"
   ]
  },
  {
   "cell_type": "code",
   "execution_count": 4,
   "metadata": {},
   "outputs": [
    {
     "name": "stdout",
     "output_type": "stream",
     "text": [
      "Brand: iPhone, Model: 14 Pro, Price: $999\n",
      "Brand: Samsung, Model: Galaxy S23, Price: $849\n",
      "Brand: iPhone, Model: 14 Mini, Price: $799\n",
      "\n",
      "Same object? iPhone and Samsung False\n",
      "Same object? iPhone and iPhone True\n"
     ]
    }
   ],
   "source": [
    "# Flyweight class\n",
    "class Mobile:\n",
    "    def __init__(self, brand):\n",
    "        self.brand = brand  # shared data \n",
    "\n",
    "    def display(self, model, price):\n",
    "        print(f\"Brand: {self.brand}, Model: {model}, Price: {price}\")\n",
    "\n",
    "# FlyweightFactory\n",
    "class MobileFactory:\n",
    "    def __init__(self):\n",
    "        self._mobiles = {}  \n",
    "\n",
    "    def get_mobile(self, brand):\n",
    "        if brand not in self._mobiles:\n",
    "            self._mobiles[brand] = Mobile(brand)\n",
    "        return self._mobiles[brand]\n",
    "\n",
    "# Client\n",
    "if __name__ == \"__main__\":\n",
    "    factory = MobileFactory()\n",
    "\n",
    "    mobile1 = factory.get_mobile(\"iPhone\")\n",
    "    mobile1.display(\"14 Pro\", \"$999\")\n",
    "\n",
    "    mobile2 = factory.get_mobile(\"Samsung\")\n",
    "    mobile2.display(\"Galaxy S23\", \"$849\")\n",
    "\n",
    "    mobile3 = factory.get_mobile(\"iPhone\")\n",
    "    mobile3.display(\"14 Mini\", \"$799\")\n",
    "\n",
    "    print(f\"\\nSame object? {mobile1.brand} and {mobile2.brand} {mobile1 is mobile2}\")\n",
    "    print(f\"Same object? {mobile1.brand} and {mobile3.brand} {mobile1 is mobile3}\")\n"
   ]
  }
 ],
 "metadata": {
  "kernelspec": {
   "display_name": "myenv",
   "language": "python",
   "name": "python3"
  },
  "language_info": {
   "codemirror_mode": {
    "name": "ipython",
    "version": 3
   },
   "file_extension": ".py",
   "mimetype": "text/x-python",
   "name": "python",
   "nbconvert_exporter": "python",
   "pygments_lexer": "ipython3",
   "version": "3.11.10"
  }
 },
 "nbformat": 4,
 "nbformat_minor": 2
}
