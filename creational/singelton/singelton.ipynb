{
 "cells": [
  {
   "cell_type": "markdown",
   "metadata": {},
   "source": [
    "# Singelton Design Pattern \n"
   ]
  },
  {
   "cell_type": "markdown",
   "metadata": {},
   "source": [
    "This is  used to create only a single instance of an object in run time."
   ]
  },
  {
   "cell_type": "code",
   "execution_count": 1,
   "metadata": {},
   "outputs": [
    {
     "name": "stdout",
     "output_type": "stream",
     "text": [
      "True\n"
     ]
    }
   ],
   "source": [
    "class DatabaseConnection:\n",
    "    _instance = None\n",
    "\n",
    "    def __new__(cls):\n",
    "        if cls._instance is None:\n",
    "            cls._instance = super(DatabaseConnection, cls).__new__(cls)\n",
    "            # Initialize the database connection here\n",
    "            cls._connection = cls._initialize_connection()\n",
    "        return cls._instance\n",
    "\n",
    "    @classmethod\n",
    "    def _initialize_connection(cls):\n",
    "        return \"Database connection initialized\"\n",
    "\n",
    "# Usage\n",
    "db1 = DatabaseConnection()\n",
    "db2 = DatabaseConnection()\n",
    "\n",
    "print(db1 is db2)  # True\n"
   ]
  },
  {
   "cell_type": "code",
   "execution_count": 3,
   "metadata": {},
   "outputs": [
    {
     "name": "stdout",
     "output_type": "stream",
     "text": [
      "True\n"
     ]
    }
   ],
   "source": [
    "class Logger:\n",
    "    _instance = None\n",
    "\n",
    "    def __new__(cls):\n",
    "        if cls._instance is None:\n",
    "            cls._instance = super(Logger, cls).__new__(cls)\n",
    "            cls._log_file = cls._open_log_file()\n",
    "        return cls._instance\n",
    "\n",
    "    @staticmethod\n",
    "    def _open_log_file():\n",
    "        return open('app.log', 'a')\n",
    "\n",
    "    def log(self, message):\n",
    "        self._log_file.write(message + '\\n')\n",
    "\n",
    "# Usage\n",
    "logger1 = Logger()\n",
    "logger2 = Logger()\n",
    "\n",
    "logger1.log(\"This is the first log message.\")\n",
    "logger2.log(\"This is the second log message.\")\n",
    "\n",
    "print(logger1 is logger2)  # True\n",
    "\n"
   ]
  }
 ],
 "metadata": {
  "kernelspec": {
   "display_name": "myenv",
   "language": "python",
   "name": "python3"
  },
  "language_info": {
   "codemirror_mode": {
    "name": "ipython",
    "version": 3
   },
   "file_extension": ".py",
   "mimetype": "text/x-python",
   "name": "python",
   "nbconvert_exporter": "python",
   "pygments_lexer": "ipython3",
   "version": "3.11.10"
  }
 },
 "nbformat": 4,
 "nbformat_minor": 2
}
