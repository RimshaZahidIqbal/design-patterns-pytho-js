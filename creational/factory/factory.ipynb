{
 "cells": [
  {
   "cell_type": "markdown",
   "metadata": {},
   "source": [
    "# Factory  Design Pattern\n"
   ]
  },
  {
   "cell_type": "markdown",
   "metadata": {},
   "source": [
    "- In this pattern there is a factory class that creates the object at runtime wich is demanded. \n"
   ]
  },
  {
   "cell_type": "code",
   "execution_count": 1,
   "metadata": {},
   "outputs": [
    {
     "name": "stdout",
     "output_type": "stream",
     "text": [
      "Car created\n",
      "Bike created\n"
     ]
    }
   ],
   "source": [
    "from abc import ABC, abstractmethod\n",
    "\n",
    "\n",
    "class Vehicle(ABC):\n",
    "    @abstractmethod\n",
    "    def create(self):\n",
    "        pass\n",
    "\n",
    "\n",
    "class Car(Vehicle):\n",
    "    def create(self):\n",
    "        return \"Car created\"\n",
    "\n",
    "class Bike(Vehicle):\n",
    "    def create(self):\n",
    "        return \"Bike created\"\n",
    "\n",
    "class VehicleFactory:\n",
    "    @staticmethod\n",
    "    def get_vehicle(vehicle_type):\n",
    "        if vehicle_type == \"car\":\n",
    "            return Car()\n",
    "        elif vehicle_type == \"bike\":\n",
    "            return Bike()\n",
    "        else:\n",
    "            raise ValueError(\"Unknown vehicle type\")\n",
    "\n",
    "# Usage\n",
    "vehicle1 = VehicleFactory.get_vehicle(\"car\")\n",
    "print(vehicle1.create())  \n",
    "\n",
    "vehicle2 = VehicleFactory.get_vehicle(\"bike\")\n",
    "print(vehicle2.create())  \n"
   ]
  },
  {
   "cell_type": "code",
   "execution_count": null,
   "metadata": {},
   "outputs": [],
   "source": [
    "import asyncio\n",
    "from abc import ABC, abstractmethod\n",
    "\n",
    "# Abstract product\n",
    "class Card(ABC):\n",
    "    @abstractmethod\n",
    "    async def create(self):\n",
    "        pass\n",
    "\n",
    "# Concrete products\n",
    "class GoldCard(Card):\n",
    "    async def create(self):\n",
    "        await asyncio.sleep(1)  # Simulate an async operation\n",
    "        return \"Gold Card created\"\n",
    "\n",
    "class SilverCard(Card):\n",
    "    async def create(self):\n",
    "        await asyncio.sleep(1)  # Simulate an async operation\n",
    "        return \"Silver Card created\"\n",
    "\n",
    "class BronzeCard(Card):\n",
    "    async def create(self):\n",
    "        await asyncio.sleep(1)  # Simulate an async operation\n",
    "        return \"Bronze Card created\"\n",
    "\n",
    "# Factory class\n",
    "class CardFactory:\n",
    "    @staticmethod\n",
    "    async def get_card(card_type):\n",
    "        if card_type == \"gold\":\n",
    "            return await GoldCard().create()\n",
    "        elif card_type == \"silver\":\n",
    "            return await SilverCard().create()\n",
    "        elif card_type == \"bronze\":\n",
    "            return await BronzeCard().create()\n",
    "        else:\n",
    "            raise ValueError(\"Unknown card type\")\n",
    "\n",
    "# Usage\n",
    "async def main():\n",
    "    card1 = await CardFactory.get_card(\"gold\")\n",
    "    print(card1)  # Gold Card created\n",
    "\n",
    "    card2 = await CardFactory.get_card(\"silver\")\n",
    "    print(card2)  # Silver Card created\n",
    "\n",
    "    card3 = await CardFactory.get_card(\"bronze\")\n",
    "    print(card3)  # Bronze Card created\n",
    "\n",
    "# Run the async main function\n",
    "asyncio.run(main())\n"
   ]
  }
 ],
 "metadata": {
  "kernelspec": {
   "display_name": "myenv",
   "language": "python",
   "name": "python3"
  },
  "language_info": {
   "codemirror_mode": {
    "name": "ipython",
    "version": 3
   },
   "file_extension": ".py",
   "mimetype": "text/x-python",
   "name": "python",
   "nbconvert_exporter": "python",
   "pygments_lexer": "ipython3",
   "version": "3.11.10"
  }
 },
 "nbformat": 4,
 "nbformat_minor": 2
}
