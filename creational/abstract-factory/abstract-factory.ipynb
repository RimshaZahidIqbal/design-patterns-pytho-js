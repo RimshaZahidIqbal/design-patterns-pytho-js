{
 "cells": [
  {
   "cell_type": "markdown",
   "metadata": {},
   "source": [
    "# Abstract Factory Design Pattern:"
   ]
  },
  {
   "cell_type": "code",
   "execution_count": 15,
   "metadata": {},
   "outputs": [],
   "source": [
    "import csv\n",
    "import json\n",
    "from abc import ABC, abstractmethod\n",
    "\n",
    "class ConverterFactory(ABC):\n",
    "    @abstractmethod\n",
    "    def create_csv_converter(self):\n",
    "        pass\n",
    "\n",
    "    @abstractmethod\n",
    "    def create_json_converter(self):\n",
    "        pass\n",
    "\n",
    "class CsvJsonConverterFactory(ConverterFactory):\n",
    "    def create_csv_converter(self):\n",
    "        return CsvConverter()\n",
    "\n",
    "    def create_json_converter(self):\n",
    "        return JsonConverter()\n",
    "\n",
    "class CsvConverter:\n",
    "    def convert_to_json(self, csv_file, json_file):\n",
    "        with open(csv_file, mode='r', encoding='utf-8') as file:\n",
    "            reader = csv.DictReader(file)\n",
    "            data = [row for row in reader]\n",
    "        \n",
    "        with open(json_file, mode='w', encoding='utf-8') as file:\n",
    "            json.dump(data, file, indent=4)  \n",
    "\n",
    "        return json_file  \n",
    "\n",
    "class JsonConverter:\n",
    "    def convert_to_csv(self, json_file):\n",
    "        with open(json_file, mode='r', encoding='utf-8') as file:\n",
    "            data = json.load(file)\n",
    "            csv_file = json_file.replace('.json', '.csv')\n",
    "            with open(csv_file, mode='w', newline='', encoding='utf-8') as csvfile:\n",
    "                writer = csv.DictWriter(csvfile, fieldnames=data[0].keys())\n",
    "                writer.writeheader()\n",
    "                writer.writerows(data)\n",
    "            return csv_file\n",
    "\n",
    "if __name__ == \"__main__\":\n",
    "    factory = CsvJsonConverterFactory()\n",
    "    csv_converter = factory.create_csv_converter()\n",
    "    json_file = csv_converter.convert_to_json('data.csv', 'data-from-csv.json')\n"
   ]
  }
 ],
 "metadata": {
  "kernelspec": {
   "display_name": "myenv",
   "language": "python",
   "name": "python3"
  },
  "language_info": {
   "codemirror_mode": {
    "name": "ipython",
    "version": 3
   },
   "file_extension": ".py",
   "mimetype": "text/x-python",
   "name": "python",
   "nbconvert_exporter": "python",
   "pygments_lexer": "ipython3",
   "version": "3.11.10"
  }
 },
 "nbformat": 4,
 "nbformat_minor": 2
}
