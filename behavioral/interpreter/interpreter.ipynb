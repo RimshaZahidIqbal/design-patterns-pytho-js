{
 "cells": [
  {
   "cell_type": "markdown",
   "metadata": {},
   "source": [
    "# Interpreter Design Pattern\n",
    "\n",
    "Interpreter is just the evaluation of the expression if it is true or not.\n",
    "\n",
    "\n",
    "## Example solved \n",
    "\n",
    "![ALT](image.png)\n"
   ]
  },
  {
   "cell_type": "code",
   "execution_count": 5,
   "metadata": {},
   "outputs": [
    {
     "name": "stdout",
     "output_type": "stream",
     "text": [
      "John is male? True\n",
      "Shoon is male? True\n",
      "Julie is a married woman? True\n"
     ]
    }
   ],
   "source": [
    "from abc import ABC , abstractmethod\n",
    "\n",
    "# interface \n",
    "class Expression(ABC):\n",
    "    @abstractmethod\n",
    "    def interpret(self , context:str)  -> bool:\n",
    "        pass\n",
    "    \n",
    "#classes for interface \n",
    "\n",
    "class TerminalExpression(Expression):\n",
    "    def __init__(self,data):\n",
    "        self.data = data\n",
    "        \n",
    "    def interpret(self, context:str)->bool:\n",
    "        return self.data in context\n",
    "        \n",
    "class OrExpression(Expression):\n",
    "    def __init__(self,exp1 :Expression , exp2 : Expression):\n",
    "        self.exp1 = exp1\n",
    "        self.exp2 = exp2\n",
    "        \n",
    "    def interpret(self, context:str)->bool:\n",
    "        return self.exp1.interpret(context) or self.exp2.interpret(context)\n",
    "    \n",
    "class AndExpression(Expression):\n",
    "    def __init__(self,exp1 :Expression , exp2 : Expression):\n",
    "        self.exp1 = exp1\n",
    "        self.exp2 = exp2\n",
    "        \n",
    "    def interpret(self, context:str)->bool:\n",
    "        return self.exp1.interpret(context) and self.exp2.interpret(context)\n",
    "class InterpreterPatternDemo:\n",
    "    @staticmethod\n",
    "    def get_male_expression() -> Expression:\n",
    "        # Rule :  \"John\" or \"Robert\" is male\n",
    "        john = TerminalExpression(\"John\")\n",
    "        robert = TerminalExpression(\"Robert\")\n",
    "        return OrExpression(john, robert)\n",
    "    @staticmethod\n",
    "    def get_married_woman_expression() -> Expression:\n",
    "        # Rule: \"Julie\" and \"Married\"\n",
    "        julie = TerminalExpression(\"Julie\")\n",
    "        married = TerminalExpression(\"Married\")\n",
    "        return AndExpression(julie, married)\n",
    "    \n",
    "if __name__ == \"__main__\":\n",
    "    is_male = InterpreterPatternDemo.get_male_expression()\n",
    "    is_married_woman = InterpreterPatternDemo.get_married_woman_expression()\n",
    "\n",
    "    print(\"John is male? \" + str(is_male.interpret(\"John\")))\n",
    "    print(\"Shoon is male? \" + str(is_male.interpret(\"John\")))\n",
    "    print(\"Julie is a married woman? \" + str(is_married_woman.interpret(\"Married Julie\")))\n",
    "    "
   ]
  }
 ],
 "metadata": {
  "kernelspec": {
   "display_name": "myenv",
   "language": "python",
   "name": "python3"
  },
  "language_info": {
   "codemirror_mode": {
    "name": "ipython",
    "version": 3
   },
   "file_extension": ".py",
   "mimetype": "text/x-python",
   "name": "python",
   "nbconvert_exporter": "python",
   "pygments_lexer": "ipython3",
   "version": "3.11.10"
  }
 },
 "nbformat": 4,
 "nbformat_minor": 2
}
