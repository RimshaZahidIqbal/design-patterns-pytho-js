{
 "cells": [
  {
   "cell_type": "markdown",
   "metadata": {},
   "source": [
    "# Visitor Design Pattern \n",
    "\n",
    "esign pattern that lets you separate algorithms from the objects on which they operate."
   ]
  },
  {
   "cell_type": "code",
   "execution_count": 2,
   "metadata": {},
   "outputs": [
    {
     "name": "stdout",
     "output_type": "stream",
     "text": [
      "Offering medical insurance to residential building.\n",
      "Offering theft insurance to the bank.\n",
      "Offering fire and flood insurance to the coffee shop.\n"
     ]
    }
   ],
   "source": [
    "from abc import ABC, abstractmethod\n",
    "\n",
    "class Visitor(ABC):\n",
    "    @abstractmethod\n",
    "    def visit_residential(self, residential):\n",
    "        pass\n",
    "\n",
    "    @abstractmethod\n",
    "    def visit_bank(self, bank):\n",
    "        pass\n",
    "\n",
    "    @abstractmethod\n",
    "    def visit_coffee_shop(self, coffee_shop):\n",
    "        pass\n",
    "\n",
    "class Building(ABC):\n",
    "    @abstractmethod\n",
    "    def accept(self, visitor):\n",
    "        pass\n",
    "\n",
    "class Residential(Building):\n",
    "    def accept(self, visitor):\n",
    "        visitor.visit_residential(self)\n",
    "\n",
    "class Bank(Building):\n",
    "    def accept(self, visitor):\n",
    "        visitor.visit_bank(self)\n",
    "\n",
    "class CoffeeShop(Building):\n",
    "    def accept(self, visitor):\n",
    "        visitor.visit_coffee_shop(self)\n",
    "\n",
    "class InsuranceAgent(Visitor):\n",
    "    def visit_residential(self, residential):\n",
    "        print(\"Offering medical insurance to residential building.\")\n",
    "\n",
    "    def visit_bank(self, bank):\n",
    "        print(\"Offering theft insurance to the bank.\")\n",
    "\n",
    "    def visit_coffee_shop(self, coffee_shop):\n",
    "        print(\"Offering fire and flood insurance to the coffee shop.\")\n",
    "\n",
    "def main():\n",
    "    buildings = [Residential(), Bank(), CoffeeShop()]\n",
    "    agent = InsuranceAgent()\n",
    "\n",
    "    for building in buildings:\n",
    "        building.accept(agent)\n",
    "\n",
    "if __name__ == \"__main__\":\n",
    "    main()\n"
   ]
  }
 ],
 "metadata": {
  "kernelspec": {
   "display_name": "myenv",
   "language": "python",
   "name": "python3"
  },
  "language_info": {
   "codemirror_mode": {
    "name": "ipython",
    "version": 3
   },
   "file_extension": ".py",
   "mimetype": "text/x-python",
   "name": "python",
   "nbconvert_exporter": "python",
   "pygments_lexer": "ipython3",
   "version": "3.11.10"
  }
 },
 "nbformat": 4,
 "nbformat_minor": 2
}
