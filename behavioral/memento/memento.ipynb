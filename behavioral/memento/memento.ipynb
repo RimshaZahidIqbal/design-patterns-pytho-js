{
 "cells": [
  {
   "cell_type": "markdown",
   "metadata": {},
   "source": [
    "# Memento Design Pattern\n",
    "\n",
    "it is used to save and  restore state of an object to a previous state  without revealing the details of its implementation.\n",
    "\n",
    "\n",
    "![Alt](image.png)\n",
    "\n"
   ]
  },
  {
   "cell_type": "code",
   "execution_count": 2,
   "metadata": {},
   "outputs": [
    {
     "name": "stdout",
     "output_type": "stream",
     "text": [
      "Setting state to Do some task (1)\n",
      "Saving state to Memento: Do some task (1)\n",
      "Setting state to do some task (2)\n",
      "Saving state to Memento: do some task (2)\n",
      "Setting state to do some task (3)\n",
      "Current State: do some task (3)\n",
      "Restoring state from Memento: Do some task (1)\n",
      "Restoring state from Memento: do some task (2)\n"
     ]
    }
   ],
   "source": [
    "class Memento:\n",
    "    def __init__(self, state):\n",
    "        self._state = state\n",
    "\n",
    "    def get_state(self):\n",
    "        return self._state\n",
    "\n",
    "class Originator:\n",
    "    def __init__(self):\n",
    "        self._state = None\n",
    "\n",
    "    def set_state(self, state):\n",
    "        print(f\"Setting state to {state}\")\n",
    "        self._state = state\n",
    "\n",
    "    def get_state(self):\n",
    "        return self._state\n",
    "\n",
    "    def save_state_to_memento(self):\n",
    "        print(f\"Saving state to Memento: {self._state}\")\n",
    "        return Memento(self._state)\n",
    "\n",
    "    def restore_state_from_memento(self, memento):\n",
    "        self._state = memento.get_state()\n",
    "        print(f\"Restoring state from Memento: {self._state}\")\n",
    "\n",
    "class CareTaker:\n",
    "    def __init__(self):\n",
    "        self._memento_list = []\n",
    "\n",
    "    def add_memento(self, memento):\n",
    "        self._memento_list.append(memento)\n",
    "\n",
    "    def get_memento(self, index):\n",
    "        return self._memento_list[index]\n",
    "\n",
    "class MementoPatternDemo:\n",
    "    @staticmethod\n",
    "    def demo():\n",
    "        originator = Originator()\n",
    "        care_taker = CareTaker()\n",
    "\n",
    "        originator.set_state(\"Do some task (1)\")\n",
    "        care_taker.add_memento(originator.save_state_to_memento())\n",
    "\n",
    "        originator.set_state(\"do some task (2)\")\n",
    "        care_taker.add_memento(originator.save_state_to_memento())\n",
    "\n",
    "        originator.set_state(\"do some task (3)\")\n",
    "        print(\"Current State: \" + originator.get_state())\n",
    "\n",
    "        originator.restore_state_from_memento(care_taker.get_memento(0))\n",
    "        originator.restore_state_from_memento(care_taker.get_memento(1))\n",
    "\n",
    "if __name__ == \"__main__\":\n",
    "    MementoPatternDemo.demo()\n"
   ]
  }
 ],
 "metadata": {
  "kernelspec": {
   "display_name": "myenv",
   "language": "python",
   "name": "python3"
  },
  "language_info": {
   "codemirror_mode": {
    "name": "ipython",
    "version": 3
   },
   "file_extension": ".py",
   "mimetype": "text/x-python",
   "name": "python",
   "nbconvert_exporter": "python",
   "pygments_lexer": "ipython3",
   "version": "3.11.10"
  }
 },
 "nbformat": 4,
 "nbformat_minor": 2
}
