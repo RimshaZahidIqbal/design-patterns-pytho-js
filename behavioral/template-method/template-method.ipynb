{
 "cells": [
  {
   "cell_type": "markdown",
   "metadata": {},
   "source": [
    "# Template Method Design Pattern\n"
   ]
  },
  {
   "cell_type": "markdown",
   "metadata": {},
   "source": [
    "it defines the skeleton of an algorithm in the superclass but lets subclasses override specific steps of the algorithm without changing its structure."
   ]
  },
  {
   "cell_type": "code",
   "execution_count": 1,
   "metadata": {},
   "outputs": [
    {
     "name": "stdout",
     "output_type": "stream",
     "text": [
      "Orcs are collecting resources.\n",
      "Orcs are building structures.\n",
      "Orcs are building units.\n",
      "Orcs are sending scouts to scout position.\n",
      "Orcs are sending warriors to warrior position.\n",
      "Monsters are collecting resources.\n",
      "Monsters are building structures.\n",
      "Monsters are building units.\n",
      "Monsters are sending scouts to scout position.\n",
      "Monsters are sending warriors to warrior position.\n"
     ]
    }
   ],
   "source": [
    "from abc import ABC, abstractmethod\n",
    "\n",
    "class GameAI(ABC):\n",
    "    \n",
    "    def takeTurn(self):\n",
    "        self.collectResources()\n",
    "        self.buildStructures()\n",
    "        self.buildUnits()\n",
    "        self.attack()\n",
    "    \n",
    "    def collectResources(self):\n",
    "        pass\n",
    "    \n",
    "    def buildStructures(self):\n",
    "        pass\n",
    "    \n",
    "    def buildUnits(self):\n",
    "        pass\n",
    "    \n",
    "    def attack(self):\n",
    "        self.sendScouts(\"scout position\")\n",
    "        self.sendWarriors(\"warrior position\")\n",
    "    \n",
    "    @abstractmethod\n",
    "    def sendScouts(self, position):\n",
    "        pass\n",
    "\n",
    "    @abstractmethod\n",
    "    def sendWarriors(self, position):\n",
    "        pass\n",
    "\n",
    "\n",
    "class OrcsAI(GameAI):\n",
    "    \n",
    "    def collectResources(self):\n",
    "        print(\"Orcs are collecting resources.\")\n",
    "    \n",
    "    def buildStructures(self):\n",
    "        print(\"Orcs are building structures.\")\n",
    "    \n",
    "    def buildUnits(self):\n",
    "        print(\"Orcs are building units.\")\n",
    "    \n",
    "    def sendScouts(self, position):\n",
    "        print(f\"Orcs are sending scouts to {position}.\")\n",
    "    \n",
    "    def sendWarriors(self, position):\n",
    "        print(f\"Orcs are sending warriors to {position}.\")\n",
    "\n",
    "\n",
    "class MonstersAI(GameAI):\n",
    "    \n",
    "    def collectResources(self):\n",
    "        print(\"Monsters are collecting resources.\")\n",
    "    \n",
    "    def buildStructures(self):\n",
    "        print(\"Monsters are building structures.\")\n",
    "    \n",
    "    def buildUnits(self):\n",
    "        print(\"Monsters are building units.\")\n",
    "    \n",
    "    def sendScouts(self, position):\n",
    "        print(f\"Monsters are sending scouts to {position}.\")\n",
    "    \n",
    "    def sendWarriors(self, position):\n",
    "        print(f\"Monsters are sending warriors to {position}.\")\n",
    "\n",
    "\n",
    "def main():\n",
    "    orcs_ai = OrcsAI()\n",
    "    orcs_ai.takeTurn()\n",
    "    \n",
    "    monsters_ai = MonstersAI()\n",
    "    monsters_ai.takeTurn()\n",
    "\n",
    "if __name__ == \"__main__\":\n",
    "    main()\n"
   ]
  }
 ],
 "metadata": {
  "kernelspec": {
   "display_name": "myenv",
   "language": "python",
   "name": "python3"
  },
  "language_info": {
   "codemirror_mode": {
    "name": "ipython",
    "version": 3
   },
   "file_extension": ".py",
   "mimetype": "text/x-python",
   "name": "python",
   "nbconvert_exporter": "python",
   "pygments_lexer": "ipython3",
   "version": "3.11.10"
  }
 },
 "nbformat": 4,
 "nbformat_minor": 2
}
