{
 "cells": [
  {
   "cell_type": "markdown",
   "metadata": {},
   "source": [
    "# Iterator Design Pattern\n",
    "\n",
    "This pattern is used to get a way of accessing a collection of objects in a sequential pattern without knowing the underlying representation.\n",
    "\n",
    "\n",
    "## Problem Solved \n",
    "\n",
    "![ALT](image.png)"
   ]
  },
  {
   "cell_type": "code",
   "execution_count": 1,
   "metadata": {},
   "outputs": [
    {
     "name": "stdout",
     "output_type": "stream",
     "text": [
      "Rimsha\n",
      "Laiba\n",
      "Maria\n",
      "Ali\n"
     ]
    }
   ],
   "source": [
    "from abc import ABC, abstractmethod\n",
    "\n",
    "# iterator interface\n",
    "class Iterator(ABC):\n",
    "    @abstractmethod\n",
    "    def has_next(self):\n",
    "        pass\n",
    "\n",
    "    @abstractmethod\n",
    "    def next(self):\n",
    "        pass\n",
    "\n",
    "# container interface\n",
    "class Container(ABC):\n",
    "    @abstractmethod\n",
    "    def get_iterator(self):\n",
    "        pass\n",
    "    \n",
    "# classes\n",
    "class NameRepository(Container):\n",
    "    def __init__(self):\n",
    "        self.names = [\"Rimsha\", \"Laiba\", \"Maria\", \"Ali\"]\n",
    "\n",
    "    def get_iterator(self):\n",
    "        return self.NameIterator(self)\n",
    "\n",
    "    class NameIterator(Iterator):\n",
    "        def __init__(self, name_repository):\n",
    "            self.name_repository = name_repository\n",
    "            self.index = 0\n",
    "\n",
    "        def has_next(self):\n",
    "            return self.index < len(self.name_repository.names)\n",
    "\n",
    "        def next(self):\n",
    "            if self.has_next():\n",
    "                name = self.name_repository.names[self.index]\n",
    "                self.index += 1\n",
    "                return name\n",
    "            return None\n",
    "\n",
    "class IteratorPatternDemo:\n",
    "    @staticmethod\n",
    "    def show_names():\n",
    "        name_repository = NameRepository()\n",
    "        iterator = name_repository.get_iterator()\n",
    "\n",
    "        while iterator.has_next():\n",
    "            print(iterator.next())\n",
    "\n",
    "if __name__ == \"__main__\":\n",
    "    IteratorPatternDemo.show_names()\n"
   ]
  }
 ],
 "metadata": {
  "kernelspec": {
   "display_name": "myenv",
   "language": "python",
   "name": "python3"
  },
  "language_info": {
   "codemirror_mode": {
    "name": "ipython",
    "version": 3
   },
   "file_extension": ".py",
   "mimetype": "text/x-python",
   "name": "python",
   "nbconvert_exporter": "python",
   "pygments_lexer": "ipython3",
   "version": "3.11.10"
  }
 },
 "nbformat": 4,
 "nbformat_minor": 2
}
