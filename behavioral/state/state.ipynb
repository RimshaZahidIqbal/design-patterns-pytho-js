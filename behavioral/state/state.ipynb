{
 "cells": [
  {
   "cell_type": "markdown",
   "metadata": {},
   "source": [
    "# State Design Pattern\n"
   ]
  },
  {
   "cell_type": "markdown",
   "metadata": {},
   "source": [
    "Objects would represent various states.\n",
    "\n",
    "behaviour changes based on change in state."
   ]
  },
  {
   "cell_type": "markdown",
   "metadata": {},
   "source": [
    "## Problem solved \n",
    "\n",
    "there are 2 states in the system \n",
    "\n",
    "\n",
    "1. LockedState: \n",
    "- Shows notifications, time, and limited controls (Wi-Fi, light).\n",
    "2. UnlockedState: \n",
    "- Shows the home screen and allows access to apps, Wi-Fi, and light.\n",
    "\n",
    "phone class can shitch between these states \n",
    "\n"
   ]
  },
  {
   "cell_type": "code",
   "execution_count": 4,
   "metadata": {},
   "outputs": [
    {
     "name": "stdout",
     "output_type": "stream",
     "text": [
      "\n",
      "Phone is locked.\n",
      "Toggling Wi-Fi (Locked State)\n",
      "Phone is now unlocked.\n",
      "\n",
      "Phone is unlocked.\n",
      "Opening Camera app.\n",
      "Toggling light (Unlocked State)\n",
      "Phone is now locked.\n",
      "\n",
      "Phone is locked.\n",
      "Cannot open apps in locked state.\n"
     ]
    }
   ],
   "source": [
    "class PhoneState:\n",
    "    def display(self):\n",
    "        pass\n",
    "\n",
    "    def toggle_wifi(self):\n",
    "        pass\n",
    "\n",
    "    def toggle_light(self):\n",
    "        pass\n",
    "\n",
    "class LockedState(PhoneState):\n",
    "    def display(self):\n",
    "        print(\"\\nPhone is locked.\")\n",
    "\n",
    "    def toggle_wifi(self):\n",
    "        print(\"Toggling Wi-Fi (Locked State)\")\n",
    "\n",
    "    def toggle_light(self):\n",
    "        print(\"Toggling light (Locked State)\")\n",
    "\n",
    "class UnlockedState(PhoneState):\n",
    "    def display(self):\n",
    "        print(\"\\nPhone is unlocked.\")\n",
    "\n",
    "    def toggle_wifi(self):\n",
    "        print(\"Toggling Wi-Fi (Unlocked State)\")\n",
    "\n",
    "    def toggle_light(self):\n",
    "        print(\"Toggling light (Unlocked State)\")\n",
    "\n",
    "    def open_app(self, app_name):\n",
    "        print(f\"Opening {app_name} app.\")\n",
    "\n",
    "class Phone:\n",
    "    def __init__(self):\n",
    "        self.locked_state = LockedState()\n",
    "        self.unlocked_state = UnlockedState()\n",
    "        self.current_state = self.locked_state\n",
    "\n",
    "    def set_state(self, state):\n",
    "        self.current_state = state\n",
    "\n",
    "    def press_power_button(self):\n",
    "        if self.current_state == self.locked_state:\n",
    "            self.set_state(self.unlocked_state)\n",
    "            print(\"Phone is now unlocked.\")\n",
    "        else:\n",
    "            self.set_state(self.locked_state)\n",
    "            print(\"Phone is now locked.\")\n",
    "        self.display()\n",
    "\n",
    "    def display(self):\n",
    "        self.current_state.display()\n",
    "\n",
    "    def toggle_wifi(self):\n",
    "        self.current_state.toggle_wifi()\n",
    "\n",
    "    def toggle_light(self):\n",
    "        self.current_state.toggle_light()\n",
    "\n",
    "    def open_app(self, app_name):\n",
    "        if self.current_state == self.unlocked_state:\n",
    "            self.current_state.open_app(app_name)\n",
    "        else:\n",
    "            print(\"Cannot open apps in locked state.\")\n",
    "\n",
    "phone = Phone()\n",
    "phone.display()\n",
    "phone.toggle_wifi()\n",
    "phone.press_power_button()\n",
    "phone.open_app(\"Camera\")\n",
    "phone.toggle_light()\n",
    "phone.press_power_button()\n",
    "phone.open_app(\"Camera\")\n"
   ]
  }
 ],
 "metadata": {
  "kernelspec": {
   "display_name": "myenv",
   "language": "python",
   "name": "python3"
  },
  "language_info": {
   "codemirror_mode": {
    "name": "ipython",
    "version": 3
   },
   "file_extension": ".py",
   "mimetype": "text/x-python",
   "name": "python",
   "nbconvert_exporter": "python",
   "pygments_lexer": "ipython3",
   "version": "3.11.10"
  }
 },
 "nbformat": 4,
 "nbformat_minor": 2
}
