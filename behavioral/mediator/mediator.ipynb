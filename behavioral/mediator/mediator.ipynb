{
 "cells": [
  {
   "cell_type": "markdown",
   "metadata": {},
   "source": [
    "# Mediator Design Pattern\n",
    "\n",
    "it reduce the ccommunication complexity between variuos classes.\n",
    "\n",
    "esay maintainance \n",
    "\n",
    "loose coupling between objects \n"
   ]
  },
  {
   "cell_type": "markdown",
   "metadata": {},
   "source": [
    "## Problem Solved :\n",
    "\n",
    "![ALT](image.png)\n",
    "\n"
   ]
  },
  {
   "cell_type": "code",
   "execution_count": 1,
   "metadata": {},
   "outputs": [
    {
     "name": "stdout",
     "output_type": "stream",
     "text": [
      "[2024-10-30 00:38:28] Laiba: Hello, Maria!\n",
      "[2024-10-30 00:38:28] Maria: Hi, Laiba! Kasi ho?\n"
     ]
    }
   ],
   "source": [
    "from datetime import datetime\n",
    "\n",
    "# mmediator class\n",
    "class ChatRoom:\n",
    "    @staticmethod\n",
    "    def show_message(user, message):\n",
    "        time = datetime.now().strftime(\"%Y-%m-%d %H:%M:%S\")\n",
    "        print(f\"[{time}] {user.get_name()}: {message}\")\n",
    "\n",
    "class User:\n",
    "    def __init__(self, name):\n",
    "        self.name = name\n",
    "\n",
    "    def get_name(self):\n",
    "        return self.name\n",
    "\n",
    "    def send_message(self, message):\n",
    "        ChatRoom.show_message(self, message)\n",
    "\n",
    "class MediatorPatternDemo:\n",
    "    @staticmethod\n",
    "    def demo():\n",
    "        Laiba = User(\"Laiba\")\n",
    "        Maria = User(\"Maria\")\n",
    "        \n",
    "        Laiba.send_message(\"Hello, Maria!\")\n",
    "        Maria.send_message(\"Hi, Laiba! Kasi ho?\")\n",
    "\n",
    "# Run the demo\n",
    "if __name__ == \"__main__\":\n",
    "    MediatorPatternDemo.demo()\n"
   ]
  },
  {
   "cell_type": "code",
   "execution_count": null,
   "metadata": {},
   "outputs": [],
   "source": []
  }
 ],
 "metadata": {
  "kernelspec": {
   "display_name": "myenv",
   "language": "python",
   "name": "python3"
  },
  "language_info": {
   "codemirror_mode": {
    "name": "ipython",
    "version": 3
   },
   "file_extension": ".py",
   "mimetype": "text/x-python",
   "name": "python",
   "nbconvert_exporter": "python",
   "pygments_lexer": "ipython3",
   "version": "3.11.10"
  }
 },
 "nbformat": 4,
 "nbformat_minor": 2
}
