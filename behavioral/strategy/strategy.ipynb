{
 "cells": [
  {
   "cell_type": "markdown",
   "metadata": {},
   "source": [
    "#Strategy design pattern\n",
    "\n",
    "The Strategy Pattern allows these algorithms to be interchangeable, providing a way for clients to select different strategies at runtime without altering their code."
   ]
  },
  {
   "cell_type": "markdown",
   "metadata": {},
   "source": [
    "![Alt](image.png)"
   ]
  },
  {
   "cell_type": "code",
   "execution_count": 1,
   "metadata": {},
   "outputs": [
    {
     "name": "stdout",
     "output_type": "stream",
     "text": [
      "10 + 5 = 15\n",
      "10 - 5 = 5\n",
      "10 * 5 = 50\n"
     ]
    }
   ],
   "source": [
    "from abc import ABC, abstractmethod\n",
    "\n",
    "class Strategy(ABC):\n",
    "    @abstractmethod\n",
    "    def do_operation(self, num1, num2):\n",
    "        pass\n",
    "\n",
    "class OperationAdd(Strategy):\n",
    "    def do_operation(self, num1, num2):\n",
    "        return num1 + num2\n",
    "\n",
    "class OperationSubtract(Strategy):\n",
    "    def do_operation(self, num1, num2):\n",
    "        return num1 - num2\n",
    "\n",
    "class OperationMultiply(Strategy):\n",
    "    def do_operation(self, num1, num2):\n",
    "        return num1 * num2\n",
    "\n",
    "class Context:\n",
    "    def __init__(self, strategy: Strategy):\n",
    "        self._strategy = strategy\n",
    "\n",
    "    def set_strategy(self, strategy: Strategy):\n",
    "        self._strategy = strategy\n",
    "\n",
    "    def execute_strategy(self, num1, num2):\n",
    "        return self._strategy.do_operation(num1, num2)\n",
    "\n",
    "if __name__ == \"__main__\":\n",
    "    context = Context(OperationAdd())\n",
    "    print(\"10 + 5 =\", context.execute_strategy(10, 5))\n",
    "\n",
    "    context.set_strategy(OperationSubtract())\n",
    "    print(\"10 - 5 =\", context.execute_strategy(10, 5))\n",
    "\n",
    "    context.set_strategy(OperationMultiply())\n",
    "    print(\"10 * 5 =\", context.execute_strategy(10, 5))\n"
   ]
  }
 ],
 "metadata": {
  "kernelspec": {
   "display_name": "myenv",
   "language": "python",
   "name": "python3"
  },
  "language_info": {
   "codemirror_mode": {
    "name": "ipython",
    "version": 3
   },
   "file_extension": ".py",
   "mimetype": "text/x-python",
   "name": "python",
   "nbconvert_exporter": "python",
   "pygments_lexer": "ipython3",
   "version": "3.11.10"
  }
 },
 "nbformat": 4,
 "nbformat_minor": 2
}
