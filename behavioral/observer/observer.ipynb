{
 "cells": [
  {
   "cell_type": "markdown",
   "metadata": {},
   "source": [
    "# Observer Design Pattern\n",
    "\n",
    "used when we hane 1 to many relationship \n",
    "\n",
    "if one object is changed all the changes are reflected back to other objects as well.\n",
    "\n",
    "provides loose coupeling "
   ]
  },
  {
   "cell_type": "markdown",
   "metadata": {},
   "source": [
    "## problem solved \n",
    "\n",
    "\n",
    "![ALT](image.png)\n"
   ]
  },
  {
   "cell_type": "code",
   "execution_count": 2,
   "metadata": {},
   "outputs": [
    {
     "name": "stdout",
     "output_type": "stream",
     "text": [
      "\n",
      "Setting state to 10:\n",
      "Setting state to 10\n",
      "Binary String: 1010\n",
      "Octal String: 12\n",
      "Hexadecimal String: A\n",
      "\n",
      "Setting state to 15:\n",
      "Setting state to 15\n",
      "Binary String: 1111\n",
      "Octal String: 17\n",
      "Hexadecimal String: F\n"
     ]
    }
   ],
   "source": [
    "class Subject:\n",
    "    def __init__(self):\n",
    "        self._observers = []\n",
    "        self._state = None\n",
    "\n",
    "    def attach(self, observer):\n",
    "        self._observers.append(observer)\n",
    "\n",
    "    def notify(self):\n",
    "        for observer in self._observers:\n",
    "            observer.update()\n",
    "\n",
    "    def set_state(self, state):\n",
    "        print(f\"Setting state to {state}\")\n",
    "        self._state = state\n",
    "        self.notify()\n",
    "\n",
    "    def get_state(self):\n",
    "        return self._state\n",
    "\n",
    "class Observer:\n",
    "    def __init__(self, subject):\n",
    "        self.subject = subject\n",
    "        self.subject.attach(self)\n",
    "\n",
    "    def update(self):\n",
    "        raise NotImplementedError(\"Observer update method must be implemented by subclasses.\")\n",
    "\n",
    "class BinaryObserver(Observer):\n",
    "    def update(self):\n",
    "        print(f\"Binary String: {bin(self.subject.get_state())[2:]}\")\n",
    "\n",
    "class OctalObserver(Observer):\n",
    "    def update(self):\n",
    "        print(f\"Octal String: {oct(self.subject.get_state())[2:]}\")\n",
    "\n",
    "class HexaObserver(Observer):\n",
    "    def update(self):\n",
    "        print(f\"Hexadecimal String: {hex(self.subject.get_state())[2:].upper()}\")\n",
    "\n",
    "class ObserverPatternDemo:\n",
    "    @staticmethod\n",
    "    def main():\n",
    "        subject = Subject()\n",
    "        BinaryObserver(subject)\n",
    "        OctalObserver(subject)\n",
    "        HexaObserver(subject)\n",
    "\n",
    "        print(\"\\nSetting state to 10:\")\n",
    "        subject.set_state(10)\n",
    "\n",
    "        print(\"\\nSetting state to 15:\")\n",
    "        subject.set_state(15)\n",
    "\n",
    "ObserverPatternDemo.main()\n"
   ]
  }
 ],
 "metadata": {
  "kernelspec": {
   "display_name": "myenv",
   "language": "python",
   "name": "python3"
  },
  "language_info": {
   "codemirror_mode": {
    "name": "ipython",
    "version": 3
   },
   "file_extension": ".py",
   "mimetype": "text/x-python",
   "name": "python",
   "nbconvert_exporter": "python",
   "pygments_lexer": "ipython3",
   "version": "3.11.10"
  }
 },
 "nbformat": 4,
 "nbformat_minor": 2
}
