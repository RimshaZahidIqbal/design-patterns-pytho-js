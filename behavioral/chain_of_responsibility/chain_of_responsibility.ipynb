{
 "cells": [
  {
   "cell_type": "markdown",
   "metadata": {},
   "source": [
    "# Chain Of Responsibility Design Pattern\n",
    "\n",
    "\n",
    "- Chain of Responsibility is a behavioral design pattern that lets you pass requests along a chain of handlers. \n",
    "- Upon receiving a request, each handler decides either to process the request or to pass it to the next handler in the chain.\n",
    "- At last there is a default handler for that request."
   ]
  },
  {
   "cell_type": "code",
   "execution_count": 4,
   "metadata": {},
   "outputs": [
    {
     "name": "stdout",
     "output_type": "stream",
     "text": [
      "\n",
      "Section 10A \n",
      "Fail Percentage: 0.00%\n",
      "Notifying: Section Head\n",
      "\n",
      "Section 10B \n",
      "Fail Percentage: 40.00%\n",
      "Notifying: Principal\n",
      "\n",
      "Section 10C \n",
      "Fail Percentage: 26.67%\n",
      "Notifying: VP\n",
      "\n",
      "Section 9A \n",
      "Fail Percentage: 0.00%\n",
      "Notifying: Section Head\n",
      "\n",
      "Section 9B \n",
      "Fail Percentage: 30.00%\n",
      "Notifying: VP\n",
      "\n",
      "Section 9C \n",
      "Fail Percentage: 66.67%\n",
      "Notifying: Principal\n"
     ]
    }
   ],
   "source": [
    "from abc import ABC, abstractmethod\n",
    "\n",
    "# Abstract class \n",
    "class NotificationHandler(ABC):\n",
    "    def __init__(self, next_handler=None):\n",
    "        self.next_handler = next_handler\n",
    "\n",
    "    @abstractmethod\n",
    "    def notify(self, fail_percentage):\n",
    "        pass\n",
    "\n",
    "# Concrete classes \n",
    "class SectionHead(NotificationHandler):\n",
    "    def notify(self, fail_percentage):\n",
    "        if fail_percentage <= 10:\n",
    "            print(\"Notifying: Section Head\")\n",
    "        elif self.next_handler:\n",
    "            self.next_handler.notify(fail_percentage)\n",
    "\n",
    "class VP(NotificationHandler):\n",
    "    def notify(self, fail_percentage):\n",
    "        if 10 < fail_percentage <= 30:\n",
    "            print(\"Notifying: VP\")\n",
    "        elif self.next_handler:\n",
    "            self.next_handler.notify(fail_percentage)\n",
    "\n",
    "class Principal(NotificationHandler):\n",
    "    def notify(self, fail_percentage):\n",
    "        if fail_percentage > 30:\n",
    "            print(\"Notifying: Principal\")\n",
    "        else:\n",
    "            print(\"Principal: No action needed.\")\n",
    "\n",
    "# Client Code\n",
    "def main():\n",
    "    principal = Principal()\n",
    "    vp = VP(next_handler=principal)\n",
    "    section_head = SectionHead(next_handler=vp)\n",
    "\n",
    "    # Results for each section: 10A, 10B, 10C, 9A, 9B, 9C\n",
    "    results = {\n",
    "        \"10A\": 0,\n",
    "        \"10B\": 12,\n",
    "        \"10C\": 8,\n",
    "        \"9A\": 0,\n",
    "        \"9B\": 9,\n",
    "        \"9C\": 20,\n",
    "    }\n",
    "\n",
    "    total_students = 30  # Assuming 30 students per section\n",
    "\n",
    "    for section, fails in results.items():\n",
    "        fail_percentage = (fails / total_students) * 100\n",
    "        print(f\"\\nSection {section} \\nFail Percentage: {fail_percentage:.2f}%\")  \n",
    "        \n",
    "        # Notify  for each section\n",
    "        section_head.notify(fail_percentage)\n",
    "\n",
    "if __name__ == \"__main__\":\n",
    "    main()\n"
   ]
  }
 ],
 "metadata": {
  "kernelspec": {
   "display_name": "myenv",
   "language": "python",
   "name": "python3"
  },
  "language_info": {
   "codemirror_mode": {
    "name": "ipython",
    "version": 3
   },
   "file_extension": ".py",
   "mimetype": "text/x-python",
   "name": "python",
   "nbconvert_exporter": "python",
   "pygments_lexer": "ipython3",
   "version": "3.11.10"
  }
 },
 "nbformat": 4,
 "nbformat_minor": 2
}
